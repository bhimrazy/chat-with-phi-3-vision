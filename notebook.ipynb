{
 "cells": [
  {
   "cell_type": "code",
   "execution_count": 1,
   "metadata": {},
   "outputs": [
    {
     "data": {
      "application/vnd.jupyter.widget-view+json": {
       "model_id": "9cac3ed1e0b34463a5407309f18e76a2",
       "version_major": 2,
       "version_minor": 0
      },
      "text/plain": [
       "Loading checkpoint shards:   0%|          | 0/2 [00:00<?, ?it/s]"
      ]
     },
     "metadata": {},
     "output_type": "display_data"
    },
    {
     "name": "stderr",
     "output_type": "stream",
     "text": [
      "Special tokens have been added in the vocabulary, make sure the associated word embeddings are fine-tuned or trained.\n"
     ]
    }
   ],
   "source": [
    "from transformers import AutoModelForCausalLM \n",
    "from transformers import AutoProcessor \n",
    "\n",
    "model_id = \"microsoft/Phi-3-vision-128k-instruct\" \n",
    "\n",
    "model = AutoModelForCausalLM.from_pretrained(model_id, device_map=\"cuda\", trust_remote_code=True, torch_dtype=\"auto\")\n",
    "\n",
    "# model = AutoModelForCausalLM.from_pretrained('microsoft/Phi-3-vision-128k-instruct', device_map=\"cuda\", trust_remote_code=True, torch_dtype=\"auto\", _attn_implementation=\"eager\")\n",
    "\n",
    "processor = AutoProcessor.from_pretrained(model_id, trust_remote_code=True) \n"
   ]
  },
  {
   "cell_type": "code",
   "execution_count": 10,
   "metadata": {},
   "outputs": [
    {
     "name": "stdout",
     "output_type": "stream",
     "text": [
      ">>> Prompt\n",
      "<|system|>\n",
      "You are a helpful assistant.<|end|>\n",
      "<|user|>\n",
      "<|image_1|>\n",
      "What is shown in this image?<|end|>\n",
      "<|assistant|>\n",
      "\n"
     ]
    }
   ],
   "source": [
    "from PIL import Image \n",
    "\n",
    "messages = [ \n",
    "    {\"role\": \"system\", \"content\": \"You are a helpful assistant.\"}, \n",
    "    {\"role\": \"user\", \"content\": \"<|image_1|>\\nWhat is shown in this image?\"}\n",
    "] \n",
    "\n",
    "\n",
    "image_url = \"dogs-playing-in-grassy-field.jpg\"\n",
    "image = Image.open(image_url) \n",
    "\n",
    "prompt = processor.tokenizer.apply_chat_template(messages, tokenize=False, add_generation_prompt=True)\n",
    "inputs = processor(prompt, image, return_tensors=\"pt\").to(\"cuda:0\") \n",
    "\n",
    "print(f\">>> Prompt\\n{prompt}\")"
   ]
  },
  {
   "cell_type": "code",
   "execution_count": null,
   "metadata": {},
   "outputs": [],
   "source": [
    "generation_args = { \n",
    "    \"max_new_tokens\": 1000, \n",
    "    \"temperature\": 0.2, \n",
    "    \"do_sample\": True, \n",
    "} \n",
    "\n",
    "generate_ids = model.generate(**inputs, eos_token_id=processor.tokenizer.eos_token_id, **generation_args) \n",
    "\n",
    "\n",
    "generate_ids = generate_ids[:, inputs['input_ids'].shape[1]:]\n",
    "response = processor.batch_decode(generate_ids, \n",
    "                                  skip_special_tokens=True, \n",
    "                                  clean_up_tokenization_spaces=False)[0]\n",
    "print(f'>>> Response\\n{response}')"
   ]
  },
  {
   "cell_type": "code",
   "execution_count": 20,
   "metadata": {},
   "outputs": [],
   "source": [
    "import torch\n",
    "torch.cuda.empty_cache()"
   ]
  },
  {
   "cell_type": "code",
   "execution_count": 4,
   "metadata": {},
   "outputs": [
    {
     "data": {
      "text/plain": [
       "{'output': 'The image displays an abbreviated tax invoice from Saathimart.com for Khileshworl Trading Pvt. Ltd. located in Narephat, Kathmandu. The VAT number is 610282856. The invoice is for Bill No. S11992-NKT-80/81, dated 01/29/2024, with the name Miti and address PAN No. The payment mode is cash. The invoice lists five items: CURRENT MIXED, EVEREST, EVEREST GARAM, EVEREST CHICKEN, and DHARA SUNFLOWER, with their respective quantities, rates, and amounts. The gross amount is 780.00, with a discount of 0.00, resulting in a net amount of 780.00. The tender is also 780.00, and there is no change. The amount to be paid is Rs. Seven hundred eighty only. Conditions apply, including that goods once sold will not be returned and that the exchange must be within 7 days with receipt except on Saturday. The invoice thanks the customer for shopping with Saathimart and provides a download link for the Saathimart app, along with a support contact number. The invoice is signed by the cashier at 10:26 AM.'}"
      ]
     },
     "execution_count": 4,
     "metadata": {},
     "output_type": "execute_result"
    }
   ],
   "source": [
    "import json\n",
    "import requests\n",
    "from PIL import Image \n",
    "from io import BytesIO\n",
    "image = Image.open(\"dogs-playing-in-grassy-field.jpg\").convert(\"RGB\")\n",
    "\n",
    "server_url = \"http://127.0.0.1:8000/predict\"\n",
    "\n",
    "# Convert the image to bytes\n",
    "buffered = BytesIO()\n",
    "image.save(buffered, format=\"JPEG\")\n",
    "image_bytes = buffered.getvalue()\n",
    "messages = [ \n",
    "    {\"role\": \"system\", \"content\": \"You are a helpful assistant.\"}, \n",
    "    {\"role\": \"user\", \"content\": \"<|image_1|>\\nWhat is shown in this image?\"}\n",
    "] \n",
    "\n",
    "data = {\n",
    "        \"images\": [\n",
    "            {\"image_bytes\":image_bytes.hex()}, \n",
    "        ],\n",
    "        \"messages\": messages,\n",
    "    }\n",
    "# Send a POST request to the server with the image\n",
    "response = requests.post(\n",
    "    server_url,\n",
    "    json= json.dumps(data)\n",
    ")\n",
    "response.json()"
   ]
  }
 ],
 "metadata": {
  "kernelspec": {
   "display_name": "cloudspace",
   "language": "python",
   "name": "python3"
  },
  "language_info": {
   "codemirror_mode": {
    "name": "ipython",
    "version": 3
   },
   "file_extension": ".py",
   "mimetype": "text/x-python",
   "name": "python",
   "nbconvert_exporter": "python",
   "pygments_lexer": "ipython3",
   "version": "3.10.10"
  }
 },
 "nbformat": 4,
 "nbformat_minor": 2
}
